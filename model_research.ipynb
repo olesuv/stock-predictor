{
 "cells": [
  {
   "cell_type": "code",
   "execution_count": 1,
   "metadata": {},
   "outputs": [],
   "source": [
    "from data_pre_processing import DataPreProcessing as dpp"
   ]
  },
  {
   "cell_type": "code",
   "execution_count": 2,
   "metadata": {},
   "outputs": [
    {
     "data": {
      "text/html": [
       "<div>\n",
       "<style scoped>\n",
       "    .dataframe tbody tr th:only-of-type {\n",
       "        vertical-align: middle;\n",
       "    }\n",
       "\n",
       "    .dataframe tbody tr th {\n",
       "        vertical-align: top;\n",
       "    }\n",
       "\n",
       "    .dataframe thead th {\n",
       "        text-align: right;\n",
       "    }\n",
       "</style>\n",
       "<table border=\"1\" class=\"dataframe\">\n",
       "  <thead>\n",
       "    <tr style=\"text-align: right;\">\n",
       "      <th></th>\n",
       "      <th>Date</th>\n",
       "      <th>Open</th>\n",
       "      <th>High</th>\n",
       "      <th>Low</th>\n",
       "      <th>Close</th>\n",
       "      <th>Volume</th>\n",
       "      <th>Currency</th>\n",
       "    </tr>\n",
       "  </thead>\n",
       "  <tbody>\n",
       "    <tr>\n",
       "      <th>0</th>\n",
       "      <td>733971</td>\n",
       "      <td>0.0</td>\n",
       "      <td>0.1</td>\n",
       "      <td>0.1</td>\n",
       "      <td>0.1</td>\n",
       "      <td>75</td>\n",
       "      <td>USD</td>\n",
       "    </tr>\n",
       "    <tr>\n",
       "      <th>1</th>\n",
       "      <td>733972</td>\n",
       "      <td>0.1</td>\n",
       "      <td>0.1</td>\n",
       "      <td>0.1</td>\n",
       "      <td>0.1</td>\n",
       "      <td>574</td>\n",
       "      <td>USD</td>\n",
       "    </tr>\n",
       "    <tr>\n",
       "      <th>2</th>\n",
       "      <td>733973</td>\n",
       "      <td>0.1</td>\n",
       "      <td>0.1</td>\n",
       "      <td>0.1</td>\n",
       "      <td>0.1</td>\n",
       "      <td>262</td>\n",
       "      <td>USD</td>\n",
       "    </tr>\n",
       "    <tr>\n",
       "      <th>3</th>\n",
       "      <td>733974</td>\n",
       "      <td>0.1</td>\n",
       "      <td>0.1</td>\n",
       "      <td>0.1</td>\n",
       "      <td>0.1</td>\n",
       "      <td>575</td>\n",
       "      <td>USD</td>\n",
       "    </tr>\n",
       "    <tr>\n",
       "      <th>4</th>\n",
       "      <td>733975</td>\n",
       "      <td>0.1</td>\n",
       "      <td>0.1</td>\n",
       "      <td>0.1</td>\n",
       "      <td>0.1</td>\n",
       "      <td>2160</td>\n",
       "      <td>USD</td>\n",
       "    </tr>\n",
       "    <tr>\n",
       "      <th>...</th>\n",
       "      <td>...</td>\n",
       "      <td>...</td>\n",
       "      <td>...</td>\n",
       "      <td>...</td>\n",
       "      <td>...</td>\n",
       "      <td>...</td>\n",
       "      <td>...</td>\n",
       "    </tr>\n",
       "    <tr>\n",
       "      <th>4415</th>\n",
       "      <td>738386</td>\n",
       "      <td>23201.6</td>\n",
       "      <td>23202.3</td>\n",
       "      <td>20807.8</td>\n",
       "      <td>20831.3</td>\n",
       "      <td>339472</td>\n",
       "      <td>USD</td>\n",
       "    </tr>\n",
       "    <tr>\n",
       "      <th>4416</th>\n",
       "      <td>738387</td>\n",
       "      <td>20830.7</td>\n",
       "      <td>21357.4</td>\n",
       "      <td>20784.8</td>\n",
       "      <td>21138.9</td>\n",
       "      <td>206943</td>\n",
       "      <td>USD</td>\n",
       "    </tr>\n",
       "    <tr>\n",
       "      <th>4417</th>\n",
       "      <td>738388</td>\n",
       "      <td>21138.9</td>\n",
       "      <td>21692.4</td>\n",
       "      <td>21077.4</td>\n",
       "      <td>21517.2</td>\n",
       "      <td>177522</td>\n",
       "      <td>USD</td>\n",
       "    </tr>\n",
       "    <tr>\n",
       "      <th>4418</th>\n",
       "      <td>738389</td>\n",
       "      <td>21516.8</td>\n",
       "      <td>21517.4</td>\n",
       "      <td>20912.1</td>\n",
       "      <td>21416.3</td>\n",
       "      <td>251833</td>\n",
       "      <td>USD</td>\n",
       "    </tr>\n",
       "    <tr>\n",
       "      <th>4419</th>\n",
       "      <td>738390</td>\n",
       "      <td>21416.5</td>\n",
       "      <td>21458.2</td>\n",
       "      <td>21271.2</td>\n",
       "      <td>21309.0</td>\n",
       "      <td>251695</td>\n",
       "      <td>USD</td>\n",
       "    </tr>\n",
       "  </tbody>\n",
       "</table>\n",
       "<p>4420 rows × 7 columns</p>\n",
       "</div>"
      ],
      "text/plain": [
       "        Date     Open     High      Low    Close  Volume Currency\n",
       "0     733971      0.0      0.1      0.1      0.1      75      USD\n",
       "1     733972      0.1      0.1      0.1      0.1     574      USD\n",
       "2     733973      0.1      0.1      0.1      0.1     262      USD\n",
       "3     733974      0.1      0.1      0.1      0.1     575      USD\n",
       "4     733975      0.1      0.1      0.1      0.1    2160      USD\n",
       "...      ...      ...      ...      ...      ...     ...      ...\n",
       "4415  738386  23201.6  23202.3  20807.8  20831.3  339472      USD\n",
       "4416  738387  20830.7  21357.4  20784.8  21138.9  206943      USD\n",
       "4417  738388  21138.9  21692.4  21077.4  21517.2  177522      USD\n",
       "4418  738389  21516.8  21517.4  20912.1  21416.3  251833      USD\n",
       "4419  738390  21416.5  21458.2  21271.2  21309.0  251695      USD\n",
       "\n",
       "[4420 rows x 7 columns]"
      ]
     },
     "execution_count": 2,
     "metadata": {},
     "output_type": "execute_result"
    }
   ],
   "source": [
    "dpp = dpp()\n",
    "dpp.load_data(\"data\")\n",
    "df = dpp.get_data()\n",
    "df['bitcoin']"
   ]
  },
  {
   "cell_type": "code",
   "execution_count": 3,
   "metadata": {},
   "outputs": [],
   "source": [
    "%matplotlib inline"
   ]
  },
  {
   "cell_type": "code",
   "execution_count": 4,
   "metadata": {},
   "outputs": [],
   "source": [
    "import pandas as pd\n",
    "import numpy as np"
   ]
  },
  {
   "cell_type": "markdown",
   "metadata": {},
   "source": [
    "## Test model on BTC"
   ]
  },
  {
   "cell_type": "code",
   "execution_count": 5,
   "metadata": {},
   "outputs": [
    {
     "data": {
      "text/plain": [
       "((3536, 5), (884, 5), (3536,), (884,))"
      ]
     },
     "execution_count": 5,
     "metadata": {},
     "output_type": "execute_result"
    }
   ],
   "source": [
    "from sklearn.model_selection import train_test_split\n",
    "\n",
    "\n",
    "X = df['bitcoin'][['Date', 'Open', 'High', 'Low', 'Volume']]\n",
    "y = df['bitcoin']['Close']\n",
    "\n",
    "x_train, x_test, y_train, y_test = train_test_split(X, y, test_size=0.2, random_state=42)\n",
    "x_train.shape, x_test.shape, y_train.shape, y_test.shape"
   ]
  },
  {
   "cell_type": "code",
   "execution_count": 6,
   "metadata": {},
   "outputs": [],
   "source": [
    "from sklearn.preprocessing import StandardScaler\n",
    "\n",
    "scaler = StandardScaler()\n",
    "x_train = scaler.fit_transform(x_train)\n",
    "x_test = scaler.transform(x_test)"
   ]
  },
  {
   "cell_type": "code",
   "execution_count": 7,
   "metadata": {},
   "outputs": [],
   "source": [
    "def mape_vectorized_v2(a, b): \n",
    "    mask = a != 0\n",
    "    return (np.fabs(a - b)/a)[mask].mean()"
   ]
  },
  {
   "cell_type": "code",
   "execution_count": 8,
   "metadata": {},
   "outputs": [
    {
     "name": "stdout",
     "output_type": "stream",
     "text": [
      "Train MSE: 73537.13494032854\n",
      "Train R2: 0.9996433153264435\n",
      "Train MAPE: 1.2323318590846721\n"
     ]
    }
   ],
   "source": [
    "from sklearn.linear_model import LinearRegression\n",
    "from sklearn.metrics import mean_squared_error, r2_score\n",
    "\n",
    "\n",
    "model = LinearRegression(copy_X=True, n_jobs=-1).fit(x_train, y_train)\n",
    "y_pred = model.predict(x_train)\n",
    "\n",
    "train_mse = mean_squared_error(y_train, y_pred)\n",
    "train_r2 = r2_score(y_train, y_pred)\n",
    "train_mape = mape_vectorized_v2(y_train, y_pred)\n",
    "\n",
    "print(f\"Train MSE: {train_mse}\")\n",
    "print(f\"Train R2: {train_r2}\")\n",
    "print(f\"Train MAPE: {train_mape}\")"
   ]
  },
  {
   "cell_type": "code",
   "execution_count": 9,
   "metadata": {},
   "outputs": [
    {
     "data": {
      "text/html": [
       "<div>\n",
       "<style scoped>\n",
       "    .dataframe tbody tr th:only-of-type {\n",
       "        vertical-align: middle;\n",
       "    }\n",
       "\n",
       "    .dataframe tbody tr th {\n",
       "        vertical-align: top;\n",
       "    }\n",
       "\n",
       "    .dataframe thead th {\n",
       "        text-align: right;\n",
       "    }\n",
       "</style>\n",
       "<table border=\"1\" class=\"dataframe\">\n",
       "  <thead>\n",
       "    <tr style=\"text-align: right;\">\n",
       "      <th></th>\n",
       "      <th>Actual</th>\n",
       "      <th>Predicted</th>\n",
       "      <th>Date</th>\n",
       "    </tr>\n",
       "  </thead>\n",
       "  <tbody>\n",
       "    <tr>\n",
       "      <th>0</th>\n",
       "      <td>0.1</td>\n",
       "      <td>-3.880794</td>\n",
       "      <td>-1.745528</td>\n",
       "    </tr>\n",
       "    <tr>\n",
       "      <th>1</th>\n",
       "      <td>0.1</td>\n",
       "      <td>-3.929412</td>\n",
       "      <td>-1.744740</td>\n",
       "    </tr>\n",
       "    <tr>\n",
       "      <th>2</th>\n",
       "      <td>0.1</td>\n",
       "      <td>-3.925300</td>\n",
       "      <td>-1.743952</td>\n",
       "    </tr>\n",
       "    <tr>\n",
       "      <th>3</th>\n",
       "      <td>0.1</td>\n",
       "      <td>-3.921232</td>\n",
       "      <td>-1.743164</td>\n",
       "    </tr>\n",
       "    <tr>\n",
       "      <th>4</th>\n",
       "      <td>0.1</td>\n",
       "      <td>-3.917252</td>\n",
       "      <td>-1.742376</td>\n",
       "    </tr>\n",
       "    <tr>\n",
       "      <th>...</th>\n",
       "      <td>...</td>\n",
       "      <td>...</td>\n",
       "      <td>...</td>\n",
       "    </tr>\n",
       "    <tr>\n",
       "      <th>4412</th>\n",
       "      <td>23856.8</td>\n",
       "      <td>23842.208568</td>\n",
       "      <td>1.731723</td>\n",
       "    </tr>\n",
       "    <tr>\n",
       "      <th>4413</th>\n",
       "      <td>23338.0</td>\n",
       "      <td>23831.108139</td>\n",
       "      <td>1.732511</td>\n",
       "    </tr>\n",
       "    <tr>\n",
       "      <th>4414</th>\n",
       "      <td>23203.6</td>\n",
       "      <td>23298.668229</td>\n",
       "      <td>1.733299</td>\n",
       "    </tr>\n",
       "    <tr>\n",
       "      <th>4415</th>\n",
       "      <td>20831.3</td>\n",
       "      <td>21607.784068</td>\n",
       "      <td>1.734087</td>\n",
       "    </tr>\n",
       "    <tr>\n",
       "      <th>4416</th>\n",
       "      <td>21138.9</td>\n",
       "      <td>21165.743657</td>\n",
       "      <td>1.734875</td>\n",
       "    </tr>\n",
       "  </tbody>\n",
       "</table>\n",
       "<p>3536 rows × 3 columns</p>\n",
       "</div>"
      ],
      "text/plain": [
       "       Actual     Predicted      Date\n",
       "0         0.1     -3.880794 -1.745528\n",
       "1         0.1     -3.929412 -1.744740\n",
       "2         0.1     -3.925300 -1.743952\n",
       "3         0.1     -3.921232 -1.743164\n",
       "4         0.1     -3.917252 -1.742376\n",
       "...       ...           ...       ...\n",
       "4412  23856.8  23842.208568  1.731723\n",
       "4413  23338.0  23831.108139  1.732511\n",
       "4414  23203.6  23298.668229  1.733299\n",
       "4415  20831.3  21607.784068  1.734087\n",
       "4416  21138.9  21165.743657  1.734875\n",
       "\n",
       "[3536 rows x 3 columns]"
      ]
     },
     "execution_count": 9,
     "metadata": {},
     "output_type": "execute_result"
    }
   ],
   "source": [
    "df_pred = pd.DataFrame({'Actual': y_train, 'Predicted': y_pred, 'Date': x_train[:,0]})\n",
    "df_pred.sort_values(by='Date', inplace=True)\n",
    "df_pred"
   ]
  },
  {
   "cell_type": "code",
   "execution_count": 10,
   "metadata": {},
   "outputs": [
    {
     "data": {
      "text/plain": [
       "<Axes: >"
      ]
     },
     "execution_count": 10,
     "metadata": {},
     "output_type": "execute_result"
    },
    {
     "data": {
      "image/png": "[encoded data removed]",
      "text/plain": [
       "<Figure size 640x480 with 1 Axes>"
      ]
     },
     "metadata": {},
     "output_type": "display_data"
    }
   ],
   "source": [
    "df_pred[['Actual', 'Predicted']].plot()"
   ]
  }
 ],
 "metadata": {
  "kernelspec": {
   "display_name": "venv",
   "language": "python",
   "name": "python3"
  },
  "language_info": {
   "codemirror_mode": {
    "name": "ipython",
    "version": 3
   },
   "file_extension": ".py",
   "mimetype": "text/x-python",
   "name": "python",
   "nbconvert_exporter": "python",
   "pygments_lexer": "ipython3",
   "version": "3.11.6"
  }
 },
 "nbformat": 4,
 "nbformat_minor": 2
}
