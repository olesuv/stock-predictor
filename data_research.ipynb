{
 "cells": [
  {
   "cell_type": "code",
   "execution_count": 2,
   "metadata": {},
   "outputs": [
    {
     "name": "stdout",
     "output_type": "stream",
     "text": [
      "Requirement already satisfied: anyio==4.3.0 in ./venv/lib/python3.11/site-packages (from -r requirements.txt (line 1)) (4.3.0)\n",
      "Requirement already satisfied: argon2-cffi==23.1.0 in ./venv/lib/python3.11/site-packages (from -r requirements.txt (line 2)) (23.1.0)\n",
      "Requirement already satisfied: argon2-cffi-bindings==21.2.0 in ./venv/lib/python3.11/site-packages (from -r requirements.txt (line 3)) (21.2.0)\n",
      "Requirement already satisfied: arrow==1.3.0 in ./venv/lib/python3.11/site-packages (from -r requirements.txt (line 4)) (1.3.0)\n",
      "Requirement already satisfied: asttokens==2.4.1 in ./venv/lib/python3.11/site-packages (from -r requirements.txt (line 5)) (2.4.1)\n",
      "Requirement already satisfied: async-lru==2.0.4 in ./venv/lib/python3.11/site-packages (from -r requirements.txt (line 6)) (2.0.4)\n",
      "Requirement already satisfied: attrs==23.2.0 in ./venv/lib/python3.11/site-packages (from -r requirements.txt (line 7)) (23.2.0)\n",
      "Requirement already satisfied: Babel==2.14.0 in ./venv/lib/python3.11/site-packages (from -r requirements.txt (line 8)) (2.14.0)\n",
      "Requirement already satisfied: beautifulsoup4==4.12.3 in ./venv/lib/python3.11/site-packages (from -r requirements.txt (line 9)) (4.12.3)\n",
      "Requirement already satisfied: bleach==6.1.0 in ./venv/lib/python3.11/site-packages (from -r requirements.txt (line 10)) (6.1.0)\n",
      "Requirement already satisfied: certifi==2024.2.2 in ./venv/lib/python3.11/site-packages (from -r requirements.txt (line 11)) (2024.2.2)\n",
      "Requirement already satisfied: cffi==1.16.0 in ./venv/lib/python3.11/site-packages (from -r requirements.txt (line 12)) (1.16.0)\n",
      "Requirement already satisfied: charset-normalizer==3.3.2 in ./venv/lib/python3.11/site-packages (from -r requirements.txt (line 13)) (3.3.2)\n",
      "Requirement already satisfied: comm==0.2.2 in ./venv/lib/python3.11/site-packages (from -r requirements.txt (line 14)) (0.2.2)\n",
      "Requirement already satisfied: contourpy==1.2.1 in ./venv/lib/python3.11/site-packages (from -r requirements.txt (line 15)) (1.2.1)\n",
      "Requirement already satisfied: cycler==0.12.1 in ./venv/lib/python3.11/site-packages (from -r requirements.txt (line 16)) (0.12.1)\n",
      "Requirement already satisfied: debugpy==1.8.1 in ./venv/lib/python3.11/site-packages (from -r requirements.txt (line 17)) (1.8.1)\n",
      "Requirement already satisfied: decorator==5.1.1 in ./venv/lib/python3.11/site-packages (from -r requirements.txt (line 18)) (5.1.1)\n",
      "Requirement already satisfied: defusedxml==0.7.1 in ./venv/lib/python3.11/site-packages (from -r requirements.txt (line 19)) (0.7.1)\n",
      "Requirement already satisfied: executing==2.0.1 in ./venv/lib/python3.11/site-packages (from -r requirements.txt (line 20)) (2.0.1)\n",
      "Requirement already satisfied: fastjsonschema==2.19.1 in ./venv/lib/python3.11/site-packages (from -r requirements.txt (line 21)) (2.19.1)\n",
      "Requirement already satisfied: fonttools==4.51.0 in ./venv/lib/python3.11/site-packages (from -r requirements.txt (line 22)) (4.51.0)\n",
      "Requirement already satisfied: fqdn==1.5.1 in ./venv/lib/python3.11/site-packages (from -r requirements.txt (line 23)) (1.5.1)\n",
      "Requirement already satisfied: h11==0.14.0 in ./venv/lib/python3.11/site-packages (from -r requirements.txt (line 24)) (0.14.0)\n",
      "Requirement already satisfied: httpcore==1.0.5 in ./venv/lib/python3.11/site-packages (from -r requirements.txt (line 25)) (1.0.5)\n",
      "Requirement already satisfied: httpx==0.27.0 in ./venv/lib/python3.11/site-packages (from -r requirements.txt (line 26)) (0.27.0)\n",
      "Requirement already satisfied: idna==3.7 in ./venv/lib/python3.11/site-packages (from -r requirements.txt (line 27)) (3.7)\n",
      "Requirement already satisfied: ipykernel==6.29.4 in ./venv/lib/python3.11/site-packages (from -r requirements.txt (line 28)) (6.29.4)\n",
      "Requirement already satisfied: ipython==8.23.0 in ./venv/lib/python3.11/site-packages (from -r requirements.txt (line 29)) (8.23.0)\n",
      "Requirement already satisfied: ipywidgets==8.1.2 in ./venv/lib/python3.11/site-packages (from -r requirements.txt (line 30)) (8.1.2)\n",
      "Requirement already satisfied: isoduration==20.11.0 in ./venv/lib/python3.11/site-packages (from -r requirements.txt (line 31)) (20.11.0)\n",
      "Requirement already satisfied: jedi==0.19.1 in ./venv/lib/python3.11/site-packages (from -r requirements.txt (line 32)) (0.19.1)\n",
      "Requirement already satisfied: Jinja2==3.1.3 in ./venv/lib/python3.11/site-packages (from -r requirements.txt (line 33)) (3.1.3)\n",
      "Requirement already satisfied: joblib==1.4.0 in ./venv/lib/python3.11/site-packages (from -r requirements.txt (line 34)) (1.4.0)\n",
      "Requirement already satisfied: json5==0.9.25 in ./venv/lib/python3.11/site-packages (from -r requirements.txt (line 35)) (0.9.25)\n",
      "Requirement already satisfied: jsonpointer==2.4 in ./venv/lib/python3.11/site-packages (from -r requirements.txt (line 36)) (2.4)\n",
      "Requirement already satisfied: jsonschema==4.21.1 in ./venv/lib/python3.11/site-packages (from -r requirements.txt (line 37)) (4.21.1)\n",
      "Requirement already satisfied: jsonschema-specifications==2023.12.1 in ./venv/lib/python3.11/site-packages (from -r requirements.txt (line 38)) (2023.12.1)\n",
      "Requirement already satisfied: jupyter==1.0.0 in ./venv/lib/python3.11/site-packages (from -r requirements.txt (line 39)) (1.0.0)\n",
      "Requirement already satisfied: jupyter-console==6.6.3 in ./venv/lib/python3.11/site-packages (from -r requirements.txt (line 40)) (6.6.3)\n",
      "Requirement already satisfied: jupyter-events==0.10.0 in ./venv/lib/python3.11/site-packages (from -r requirements.txt (line 41)) (0.10.0)\n",
      "Requirement already satisfied: jupyter-lsp==2.2.5 in ./venv/lib/python3.11/site-packages (from -r requirements.txt (line 42)) (2.2.5)\n",
      "Requirement already satisfied: jupyter_client==8.6.1 in ./venv/lib/python3.11/site-packages (from -r requirements.txt (line 43)) (8.6.1)\n",
      "Requirement already satisfied: jupyter_core==5.7.2 in ./venv/lib/python3.11/site-packages (from -r requirements.txt (line 44)) (5.7.2)\n",
      "Requirement already satisfied: jupyter_server==2.14.0 in ./venv/lib/python3.11/site-packages (from -r requirements.txt (line 45)) (2.14.0)\n",
      "Requirement already satisfied: jupyter_server_terminals==0.5.3 in ./venv/lib/python3.11/site-packages (from -r requirements.txt (line 46)) (0.5.3)\n",
      "Requirement already satisfied: jupyterlab==4.1.6 in ./venv/lib/python3.11/site-packages (from -r requirements.txt (line 47)) (4.1.6)\n",
      "Requirement already satisfied: jupyterlab_pygments==0.3.0 in ./venv/lib/python3.11/site-packages (from -r requirements.txt (line 48)) (0.3.0)\n",
      "Requirement already satisfied: jupyterlab_server==2.26.0 in ./venv/lib/python3.11/site-packages (from -r requirements.txt (line 49)) (2.26.0)\n",
      "Requirement already satisfied: jupyterlab_widgets==3.0.10 in ./venv/lib/python3.11/site-packages (from -r requirements.txt (line 50)) (3.0.10)\n",
      "Requirement already satisfied: kiwisolver==1.4.5 in ./venv/lib/python3.11/site-packages (from -r requirements.txt (line 51)) (1.4.5)\n",
      "Requirement already satisfied: MarkupSafe==2.1.5 in ./venv/lib/python3.11/site-packages (from -r requirements.txt (line 52)) (2.1.5)\n",
      "Requirement already satisfied: matplotlib==3.8.4 in ./venv/lib/python3.11/site-packages (from -r requirements.txt (line 53)) (3.8.4)\n",
      "Requirement already satisfied: matplotlib-inline==0.1.6 in ./venv/lib/python3.11/site-packages (from -r requirements.txt (line 54)) (0.1.6)\n",
      "Requirement already satisfied: mistune==3.0.2 in ./venv/lib/python3.11/site-packages (from -r requirements.txt (line 55)) (3.0.2)\n",
      "Requirement already satisfied: nbclient==0.10.0 in ./venv/lib/python3.11/site-packages (from -r requirements.txt (line 56)) (0.10.0)\n",
      "Requirement already satisfied: nbconvert==7.16.3 in ./venv/lib/python3.11/site-packages (from -r requirements.txt (line 57)) (7.16.3)\n",
      "Requirement already satisfied: nbformat==5.10.4 in ./venv/lib/python3.11/site-packages (from -r requirements.txt (line 58)) (5.10.4)\n",
      "Requirement already satisfied: nest-asyncio==1.6.0 in ./venv/lib/python3.11/site-packages (from -r requirements.txt (line 59)) (1.6.0)\n",
      "Requirement already satisfied: notebook==7.1.2 in ./venv/lib/python3.11/site-packages (from -r requirements.txt (line 60)) (7.1.2)\n",
      "Requirement already satisfied: notebook_shim==0.2.4 in ./venv/lib/python3.11/site-packages (from -r requirements.txt (line 61)) (0.2.4)\n",
      "Requirement already satisfied: numpy==1.26.4 in ./venv/lib/python3.11/site-packages (from -r requirements.txt (line 62)) (1.26.4)\n",
      "Requirement already satisfied: overrides==7.7.0 in ./venv/lib/python3.11/site-packages (from -r requirements.txt (line 63)) (7.7.0)\n",
      "Requirement already satisfied: packaging==24.0 in ./venv/lib/python3.11/site-packages (from -r requirements.txt (line 64)) (24.0)\n",
      "Requirement already satisfied: pandas==2.2.2 in ./venv/lib/python3.11/site-packages (from -r requirements.txt (line 65)) (2.2.2)\n",
      "Requirement already satisfied: pandocfilters==1.5.1 in ./venv/lib/python3.11/site-packages (from -r requirements.txt (line 66)) (1.5.1)\n",
      "Requirement already satisfied: parso==0.8.4 in ./venv/lib/python3.11/site-packages (from -r requirements.txt (line 67)) (0.8.4)\n",
      "Requirement already satisfied: pexpect==4.9.0 in ./venv/lib/python3.11/site-packages (from -r requirements.txt (line 68)) (4.9.0)\n",
      "Requirement already satisfied: pillow==10.3.0 in ./venv/lib/python3.11/site-packages (from -r requirements.txt (line 69)) (10.3.0)\n",
      "Requirement already satisfied: platformdirs==4.2.0 in ./venv/lib/python3.11/site-packages (from -r requirements.txt (line 70)) (4.2.0)\n",
      "Requirement already satisfied: prometheus_client==0.20.0 in ./venv/lib/python3.11/site-packages (from -r requirements.txt (line 71)) (0.20.0)\n",
      "Requirement already satisfied: prompt-toolkit==3.0.43 in ./venv/lib/python3.11/site-packages (from -r requirements.txt (line 72)) (3.0.43)\n",
      "Requirement already satisfied: psutil==5.9.8 in ./venv/lib/python3.11/site-packages (from -r requirements.txt (line 73)) (5.9.8)\n",
      "Requirement already satisfied: ptyprocess==0.7.0 in ./venv/lib/python3.11/site-packages (from -r requirements.txt (line 74)) (0.7.0)\n",
      "Requirement already satisfied: pure-eval==0.2.2 in ./venv/lib/python3.11/site-packages (from -r requirements.txt (line 75)) (0.2.2)\n",
      "Requirement already satisfied: pycparser==2.22 in ./venv/lib/python3.11/site-packages (from -r requirements.txt (line 76)) (2.22)\n",
      "Requirement already satisfied: Pygments==2.17.2 in ./venv/lib/python3.11/site-packages (from -r requirements.txt (line 77)) (2.17.2)\n",
      "Requirement already satisfied: pyparsing==3.1.2 in ./venv/lib/python3.11/site-packages (from -r requirements.txt (line 78)) (3.1.2)\n",
      "Requirement already satisfied: python-dateutil==2.9.0.post0 in ./venv/lib/python3.11/site-packages (from -r requirements.txt (line 79)) (2.9.0.post0)\n",
      "Requirement already satisfied: python-json-logger==2.0.7 in ./venv/lib/python3.11/site-packages (from -r requirements.txt (line 80)) (2.0.7)\n",
      "Requirement already satisfied: pytz==2024.1 in ./venv/lib/python3.11/site-packages (from -r requirements.txt (line 81)) (2024.1)\n",
      "Requirement already satisfied: PyYAML==6.0.1 in ./venv/lib/python3.11/site-packages (from -r requirements.txt (line 82)) (6.0.1)\n",
      "Requirement already satisfied: pyzmq==25.1.2 in ./venv/lib/python3.11/site-packages (from -r requirements.txt (line 83)) (25.1.2)\n",
      "Requirement already satisfied: qtconsole==5.5.1 in ./venv/lib/python3.11/site-packages (from -r requirements.txt (line 84)) (5.5.1)\n",
      "Requirement already satisfied: QtPy==2.4.1 in ./venv/lib/python3.11/site-packages (from -r requirements.txt (line 85)) (2.4.1)\n",
      "Requirement already satisfied: referencing==0.34.0 in ./venv/lib/python3.11/site-packages (from -r requirements.txt (line 86)) (0.34.0)\n",
      "Requirement already satisfied: requests==2.31.0 in ./venv/lib/python3.11/site-packages (from -r requirements.txt (line 87)) (2.31.0)\n",
      "Requirement already satisfied: rfc3339-validator==0.1.4 in ./venv/lib/python3.11/site-packages (from -r requirements.txt (line 88)) (0.1.4)\n",
      "Requirement already satisfied: rfc3986-validator==0.1.1 in ./venv/lib/python3.11/site-packages (from -r requirements.txt (line 89)) (0.1.1)\n",
      "Requirement already satisfied: rpds-py==0.18.0 in ./venv/lib/python3.11/site-packages (from -r requirements.txt (line 90)) (0.18.0)\n",
      "Requirement already satisfied: scikit-learn==1.4.2 in ./venv/lib/python3.11/site-packages (from -r requirements.txt (line 91)) (1.4.2)\n",
      "Requirement already satisfied: scipy==1.13.0 in ./venv/lib/python3.11/site-packages (from -r requirements.txt (line 92)) (1.13.0)\n",
      "Requirement already satisfied: Send2Trash==1.8.3 in ./venv/lib/python3.11/site-packages (from -r requirements.txt (line 93)) (1.8.3)\n",
      "Requirement already satisfied: six==1.16.0 in ./venv/lib/python3.11/site-packages (from -r requirements.txt (line 94)) (1.16.0)\n",
      "Requirement already satisfied: sniffio==1.3.1 in ./venv/lib/python3.11/site-packages (from -r requirements.txt (line 95)) (1.3.1)\n",
      "Requirement already satisfied: soupsieve==2.5 in ./venv/lib/python3.11/site-packages (from -r requirements.txt (line 96)) (2.5)\n",
      "Requirement already satisfied: stack-data==0.6.3 in ./venv/lib/python3.11/site-packages (from -r requirements.txt (line 97)) (0.6.3)\n",
      "Requirement already satisfied: terminado==0.18.1 in ./venv/lib/python3.11/site-packages (from -r requirements.txt (line 98)) (0.18.1)\n",
      "Requirement already satisfied: threadpoolctl==3.4.0 in ./venv/lib/python3.11/site-packages (from -r requirements.txt (line 99)) (3.4.0)\n",
      "Requirement already satisfied: tinycss2==1.2.1 in ./venv/lib/python3.11/site-packages (from -r requirements.txt (line 100)) (1.2.1)\n",
      "Requirement already satisfied: tornado==6.4 in ./venv/lib/python3.11/site-packages (from -r requirements.txt (line 101)) (6.4)\n",
      "Requirement already satisfied: traitlets==5.14.2 in ./venv/lib/python3.11/site-packages (from -r requirements.txt (line 102)) (5.14.2)\n",
      "Requirement already satisfied: types-python-dateutil==2.9.0.20240316 in ./venv/lib/python3.11/site-packages (from -r requirements.txt (line 103)) (2.9.0.20240316)\n",
      "Requirement already satisfied: typing_extensions==4.11.0 in ./venv/lib/python3.11/site-packages (from -r requirements.txt (line 104)) (4.11.0)\n",
      "Requirement already satisfied: tzdata==2024.1 in ./venv/lib/python3.11/site-packages (from -r requirements.txt (line 105)) (2024.1)\n",
      "Requirement already satisfied: uri-template==1.3.0 in ./venv/lib/python3.11/site-packages (from -r requirements.txt (line 106)) (1.3.0)\n",
      "Requirement already satisfied: urllib3==2.2.1 in ./venv/lib/python3.11/site-packages (from -r requirements.txt (line 107)) (2.2.1)\n",
      "Requirement already satisfied: wcwidth==0.2.13 in ./venv/lib/python3.11/site-packages (from -r requirements.txt (line 108)) (0.2.13)\n",
      "Requirement already satisfied: webcolors==1.13 in ./venv/lib/python3.11/site-packages (from -r requirements.txt (line 109)) (1.13)\n",
      "Requirement already satisfied: webencodings==0.5.1 in ./venv/lib/python3.11/site-packages (from -r requirements.txt (line 110)) (0.5.1)\n",
      "Requirement already satisfied: websocket-client==1.7.0 in ./venv/lib/python3.11/site-packages (from -r requirements.txt (line 111)) (1.7.0)\n",
      "Requirement already satisfied: widgetsnbextension==4.0.10 in ./venv/lib/python3.11/site-packages (from -r requirements.txt (line 112)) (4.0.10)\n"
     ]
    }
   ],
   "source": [
    "!python3 -m pip install -r requirements.txt"
   ]
  },
  {
   "cell_type": "code",
   "execution_count": 3,
   "metadata": {},
   "outputs": [],
   "source": [
    "%matplotlib inline"
   ]
  },
  {
   "cell_type": "code",
   "execution_count": 4,
   "metadata": {},
   "outputs": [],
   "source": [
    "import pandas as pd\n",
    "import numpy as np\n",
    "import matplotlib.pyplot as plt"
   ]
  },
  {
   "cell_type": "markdown",
   "metadata": {},
   "source": [
    "## Credits\n",
    "\n",
    "Data was taken from following link: [https://www.kaggle.com/datasets/kaushiksuresh147/top-10-cryptocurrencies-historical-dataset](https://www.kaggle.com/datasets/kaushiksuresh147/top-10-cryptocurrencies-historical-dataset)"
   ]
  },
  {
   "cell_type": "code",
   "execution_count": 5,
   "metadata": {},
   "outputs": [],
   "source": [
    "df = pd.read_csv('data/bitcoin.csv')"
   ]
  }
 ],
 "metadata": {
  "kernelspec": {
   "display_name": "venv",
   "language": "python",
   "name": "python3"
  },
  "language_info": {
   "codemirror_mode": {
    "name": "ipython",
    "version": 3
   },
   "file_extension": ".py",
   "mimetype": "text/x-python",
   "name": "python",
   "nbconvert_exporter": "python",
   "pygments_lexer": "ipython3",
   "version": "3.11.6"
  }
 },
 "nbformat": 4,
 "nbformat_minor": 2
}
